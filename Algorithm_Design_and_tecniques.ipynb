{
  "nbformat": 4,
  "nbformat_minor": 0,
  "metadata": {
    "colab": {
      "provenance": [],
      "authorship_tag": "ABX9TyMUijr9zet0S2FX5U2Lxg/z",
      "include_colab_link": true
    },
    "kernelspec": {
      "name": "python3",
      "display_name": "Python 3"
    },
    "language_info": {
      "name": "python"
    }
  },
  "cells": [
    {
      "cell_type": "markdown",
      "metadata": {
        "id": "view-in-github",
        "colab_type": "text"
      },
      "source": [
        "<a href=\"https://colab.research.google.com/github/emadomako1/Computational-Physics-I/blob/main/Algorithm_Design_and_tecniques.ipynb\" target=\"_parent\"><img src=\"https://colab.research.google.com/assets/colab-badge.svg\" alt=\"Open In Colab\"/></a>"
      ]
    },
    {
      "cell_type": "code",
      "execution_count": null,
      "metadata": {
        "id": "4DS9F1dpu61K"
      },
      "outputs": [],
      "source": []
    },
    {
      "cell_type": "markdown",
      "source": [
        "**Algorithms Design and Techniques**\n",
        "* Before solving a new problem, the general tendency is to look for the similarity of the current\n",
        "problem to other problems for which we have solutions. This helps us in getting the solution\n",
        "easily.\n",
        "* In this chapter, we will see different ways of classifying the algorithms and in subsequent\n",
        "chapters we will focus on a few of them (Greedy, Divide and Conquer, Dynamic Programming).\n",
        "\n",
        "\n"
      ],
      "metadata": {
        "id": "U7lo-9Zqu-4z"
      }
    },
    {
      "cell_type": "markdown",
      "source": [
        "**classification**\n",
        "*  Implementation Method\n",
        "* Design Method\n",
        "* Other Classifications"
      ],
      "metadata": {
        "id": "iirOnksK2FiW"
      }
    },
    {
      "cell_type": "markdown",
      "source": [],
      "metadata": {
        "id": "rkyePtuY2eQy"
      }
    },
    {
      "cell_type": "markdown",
      "source": [
        "**Classification by Implementation Method**\n",
        "* Recursion: A recursive algorithm is one that calls itself repeatedly until a base condition is satisfied\n",
        "* Iteration: Iterative algorithms use constructs like loops and sometimes other data structures like stacks and\n",
        "queues to solve the problems.\n"
      ],
      "metadata": {
        "id": "kyPw1GwB2kND"
      }
    },
    {
      "cell_type": "code",
      "source": [
        "#Example: Factorial Calculation\n",
        "# Recursive Factorial\n",
        "def factorial_recursive(n):\n",
        "    if n == 0 or n == 1:\n",
        "        return 1\n",
        "    return n * factorial_recursive(n - 1)\n",
        "\n",
        "# Iterative Factorial\n",
        "def factorial_iterative(n):\n",
        "    result = 1\n",
        "    for i in range(1, n + 1):\n",
        "        result *= i\n",
        "    return result\n",
        "\n",
        "print(factorial_recursive(5))  # Output: 120\n",
        "print(factorial_iterative(5))  # Output: 120"
      ],
      "metadata": {
        "colab": {
          "base_uri": "https://localhost:8080/"
        },
        "id": "nrLATcsL5MR8",
        "outputId": "c8ad2577-4d93-42f4-db93-d64d25c11b7c"
      },
      "execution_count": null,
      "outputs": [
        {
          "output_type": "stream",
          "name": "stdout",
          "text": [
            "120\n",
            "120\n"
          ]
        }
      ]
    },
    {
      "cell_type": "markdown",
      "source": [
        "**Procedural or Declarative (non-Procedural)**\n",
        "*  **Procedural Programming**: Specifies how to perform an operation. ie With procedural programming, we have to specify the exact steps to get the result.\n",
        "\n",
        "* **Declarative Programming**: Specifies what should be done without defining how.\n",
        "\n",
        "ie In declarative programming languages, we say what we want without having to say how to do it.\n"
      ],
      "metadata": {
        "id": "oGdcotZh8cRf"
      }
    },
    {
      "cell_type": "code",
      "source": [
        "# Procedural Approach in Python\n",
        "students = [{'name': 'Alice', 'age': 20}, {'name': 'Bob', 'age': 17}]\n",
        "filtered_students = [s for s in students if s['age'] > 18]\n",
        "print(filtered_students)"
      ],
      "metadata": {
        "colab": {
          "base_uri": "https://localhost:8080/"
        },
        "id": "i4m8cyhjAJIa",
        "outputId": "d174b8a7-5871-42ae-f96d-b0fd853866a1"
      },
      "execution_count": null,
      "outputs": [
        {
          "output_type": "stream",
          "name": "stdout",
          "text": [
            "[{'name': 'Alice', 'age': 20}]\n"
          ]
        }
      ]
    },
    {
      "cell_type": "code",
      "source": [
        "# -- Declarative SQL Query\n",
        "# SELECT * FROM students WHERE age > 18;"
      ],
      "metadata": {
        "colab": {
          "base_uri": "https://localhost:8080/",
          "height": 106
        },
        "collapsed": true,
        "id": "64qKD2bMAW56",
        "outputId": "b38ce774-1da7-45b1-9116-228358f44394"
      },
      "execution_count": null,
      "outputs": [
        {
          "output_type": "error",
          "ename": "SyntaxError",
          "evalue": "invalid syntax (<ipython-input-2-bbfc473a7858>, line 1)",
          "traceback": [
            "\u001b[0;36m  File \u001b[0;32m\"<ipython-input-2-bbfc473a7858>\"\u001b[0;36m, line \u001b[0;32m1\u001b[0m\n\u001b[0;31m    -- Declarative SQL Query\u001b[0m\n\u001b[0m                   ^\u001b[0m\n\u001b[0;31mSyntaxError\u001b[0m\u001b[0;31m:\u001b[0m invalid syntax\n"
          ]
        }
      ]
    },
    {
      "cell_type": "markdown",
      "source": [
        "**Serial, Parallel, and Distributed Algorithms**\n",
        "* **Serial**: Executes one instruction at a time.\n",
        "\n",
        "* In general, while discussing the algorithms we assume that computers execute one instruction at a\n",
        "time. These are called serial algorithms.\n",
        "\n",
        "* **Parallel**: Divides problem into subproblems executed concurrently.\n",
        "* Parallel algorithms take advantage of computer architectures to process several instructions at a\n",
        "time.\n",
        "*  They divide the problem into subproblems and serve them to several processors or threads.\n",
        "* Iterative algorithms are generally parallelizable\n",
        "\n",
        "* Distributed: Execution is spread across multiple machines.\n",
        "\n",
        "* If the parallel algorithms are distributed on to different machines then we call such algorithms\n",
        "distributed algorithms."
      ],
      "metadata": {
        "id": "zfoadGmrA9J2"
      }
    },
    {
      "cell_type": "code",
      "source": [
        "import multiprocessing\n",
        "\n",
        "def square_number(n):\n",
        "    return n * n\n",
        "\n",
        "if __name__ == \"__main__\":\n",
        "    pool = multiprocessing.Pool()\n",
        "    numbers = [1, 2, 3, 4, 5]\n",
        "    results = pool.map(square_number, numbers)\n",
        "    print(results)"
      ],
      "metadata": {
        "colab": {
          "base_uri": "https://localhost:8080/"
        },
        "id": "GnUhqAb-ClJS",
        "outputId": "432e02d5-05cf-4636-c78e-6664ca3195d7"
      },
      "execution_count": null,
      "outputs": [
        {
          "output_type": "stream",
          "name": "stdout",
          "text": [
            "[1, 4, 9, 16, 25]\n"
          ]
        }
      ]
    },
    {
      "cell_type": "markdown",
      "source": [
        "**Deterministic vs Non-Deterministic Algorithms**\n",
        "* **Deterministic**: Produces the same output for the same input.\n",
        "\n",
        "* **Non-Deterministic**: Uses heuristics to guess a solution."
      ],
      "metadata": {
        "id": "KO0PH4U1BBn2"
      }
    },
    {
      "cell_type": "code",
      "source": [],
      "metadata": {
        "id": "0ZbOGs64DhEE"
      },
      "execution_count": null,
      "outputs": []
    },
    {
      "cell_type": "code",
      "source": [
        "# Deterministic QuickSort\n",
        "import random\n",
        "\n",
        "def quicksort(arr):\n",
        "    if len(arr) <= 1:\n",
        "        return arr\n",
        "    pivot = arr[0]\n",
        "    left = [x for x in arr[1:] if x <= pivot]\n",
        "    right = [x for x in arr[1:] if x > pivot]\n",
        "    return quicksort(left) + [pivot] + quicksort(right)\n",
        "\n",
        "# Non-Deterministic QuickSort (Random Pivot)\n",
        "def randomized_quicksort(arr):\n",
        "    if len(arr) <= 1:\n",
        "        return arr\n",
        "    pivot = random.choice(arr)\n",
        "    left = [x for x in arr if x < pivot]\n",
        "    right = [x for x in arr if x > pivot]\n",
        "    return randomized_quicksort(left) + [pivot] + randomized_quicksort(right)\n",
        "\n",
        "# Sample Array\n",
        "arr = [5, 3, 8, 6, 2, 7, 4, 1]\n",
        "\n",
        "# Run and Print Results\n",
        "print(\"Deterministic QuickSort:\", quicksort(arr))\n",
        "print(\"Randomized QuickSort:\", randomized_quicksort(arr))\n"
      ],
      "metadata": {
        "colab": {
          "base_uri": "https://localhost:8080/"
        },
        "id": "kKo2WBzqDXDm",
        "outputId": "38ba5e33-86c8-45f2-ebb0-1135333bb095"
      },
      "execution_count": null,
      "outputs": [
        {
          "output_type": "stream",
          "name": "stdout",
          "text": [
            "Deterministic QuickSort: [1, 2, 3, 4, 5, 6, 7, 8]\n",
            "Randomized QuickSort: [1, 2, 3, 4, 5, 6, 7, 8]\n"
          ]
        }
      ]
    },
    {
      "cell_type": "markdown",
      "source": [
        "**Exact vs Approximate Algorithms**\n",
        "Exact Algorithms\n",
        "\n",
        "Always find the optimal solution.\n",
        "\n",
        "Used for problems where a definitive answer is required.\n",
        "\n",
        "Examples: Sorting (QuickSort, MergeSort), Shortest Path (Dijkstra’s Algorithm).\n",
        "Exact Algorithms\n",
        "Title: What Are Exact Algorithms?\n",
        "\n",
        "Always find the optimal solution.\n",
        "\n",
        "Used for problems where a definitive answer is required.\n",
        "\n",
        "Examples: Sorting (QuickSort, MergeSort), Shortest Path (Dijkstra’s Algorithm).\n",
        "\n",
        "Code Example: Dijkstra’s Algorithm\n",
        "\n",
        "import heapq\n",
        "\n",
        "def dijkstra(graph, start):\n",
        "    shortest_paths = {node: float('inf') for node in graph}\n",
        "    shortest_paths[start] = 0\n",
        "    priority_queue = [(0, start)]\n",
        "\n",
        "    while priority_queue:\n",
        "        current_distance, current_node = heapq.heappop(priority_queue)\n",
        "        if current_distance > shortest_paths[current_node]:\n",
        "            continue\n",
        "        for neighbor, weight in graph[current_node].items():\n",
        "            distance = current_distance + weight\n",
        "            if distance < shortest_paths[neighbor]:\n",
        "                shortest_paths[neighbor] = distance\n",
        "                heapq.heappush(priority_queue, (distance, neighbor))\n",
        "    return shortest_paths\n",
        "\n",
        "** Approximation Algorithms**\n",
        "* Used when finding the optimal solution is too slow or difficult.\n",
        "* Provides a near-optimal solution.\n",
        "* Generally applied to NP-hard problems.\n"
      ],
      "metadata": {
        "id": "BEZa5Fm-Umdp"
      }
    },
    {
      "cell_type": "markdown",
      "source": [
        "**Classification by Design Method**\n",
        "*Greedy Method: Select the best choice at each step, hoping for an optimal solution\n",
        "* example Coin change problem\n",
        "\n"
      ],
      "metadata": {
        "id": "FWhTM-d9A1Ij"
      }
    },
    {
      "cell_type": "code",
      "source": [
        "def greedy_coin_change(coins, amount):\n",
        "    coins.sort(reverse=True)\n",
        "    change = []\n",
        "    for coin in coins:\n",
        "        while amount >= coin:\n",
        "            amount -= coin\n",
        "            change.append(coin)\n",
        "    return change\n",
        "\n",
        "print(greedy_coin_change([1, 5, 10, 25], 63))  # Output: [25, 25, 10, 1, 1, 1]"
      ],
      "metadata": {
        "id": "JLLNU49cEqgm",
        "colab": {
          "base_uri": "https://localhost:8080/"
        },
        "outputId": "c277c80f-0ecb-423b-84b3-c30616ae525b"
      },
      "execution_count": null,
      "outputs": [
        {
          "output_type": "stream",
          "name": "stdout",
          "text": [
            "[25, 25, 10, 1, 1, 1]\n"
          ]
        }
      ]
    },
    {
      "cell_type": "markdown",
      "source": [
        "**Divide and Conquer**\n",
        "1. Divide: Split the problem into subproblems\n",
        "2. Recursion: solve subproblems recursiveky\n",
        "3. Conquer: Merge results"
      ],
      "metadata": {
        "id": "z4-WPP_Z5o5y"
      }
    },
    {
      "cell_type": "code",
      "source": [
        "def merge_sort(arr):\n",
        "    if len(arr) <= 1:\n",
        "        return arr\n",
        "    mid = len(arr) // 2\n",
        "    left = merge_sort(arr[:mid])\n",
        "    right = merge_sort(arr[mid:])\n",
        "    return merge(left, right)\n",
        "\n",
        "def merge(left, right):\n",
        "    result = []\n",
        "    i = j = 0\n",
        "\n",
        "    while i < len(left) and j < len(right):\n",
        "        if left[i] < right[j]:\n",
        "            result.append(left[i])\n",
        "            i += 1\n",
        "        else:\n",
        "            result.append(right[j])\n",
        "            j += 1\n",
        "\n",
        "    result.extend(left[i:])\n",
        "    result.extend(right[j:])\n",
        "    return result\n",
        "\n",
        "# Example usage:\n",
        "arr = [5, 3, 8, 2, 7, 6]\n",
        "sorted_arr = merge_sort(arr)\n",
        "print(sorted_arr)\n"
      ],
      "metadata": {
        "colab": {
          "base_uri": "https://localhost:8080/"
        },
        "id": "FdR_ulhZK4ux",
        "outputId": "b1a1a184-fbe7-41bb-b4ae-ddb73a1a0af6"
      },
      "execution_count": null,
      "outputs": [
        {
          "output_type": "stream",
          "name": "stdout",
          "text": [
            "[2, 3, 5, 6, 7, 8]\n"
          ]
        }
      ]
    }
  ]
}